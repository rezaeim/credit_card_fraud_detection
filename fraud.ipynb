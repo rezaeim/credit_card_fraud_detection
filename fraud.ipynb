{
 "cells": [
  {
   "cell_type": "markdown",
   "source": [
    "Importing all the necessary Libraries"
   ],
   "metadata": {
    "collapsed": false
   },
   "id": "b8e32e561243175f"
  },
  {
   "cell_type": "code",
   "execution_count": 1,
   "id": "initial_id",
   "metadata": {
    "collapsed": true,
    "ExecuteTime": {
     "end_time": "2023-11-27T16:42:48.827602Z",
     "start_time": "2023-11-27T16:42:48.730798Z"
    }
   },
   "outputs": [],
   "source": [
    "# import the necessary packages \n",
    "import numpy as np \n",
    "import pandas as pd \n",
    "import matplotlib.pyplot as plt \n",
    "import seaborn as sns \n",
    "from matplotlib import gridspec"
   ]
  },
  {
   "cell_type": "markdown",
   "source": [
    "Loading the Data"
   ],
   "metadata": {
    "collapsed": false
   },
   "id": "1df3b7d1c4bbbc1d"
  },
  {
   "cell_type": "code",
   "execution_count": null,
   "outputs": [],
   "source": [
    "data = pd.read_csv(\"credit.csv\") \n",
    "data.head()"
   ],
   "metadata": {
    "collapsed": false
   },
   "id": "9c2a6d156bfa7eab"
  },
  {
   "cell_type": "code",
   "execution_count": null,
   "outputs": [],
   "source": [
    "# Print the shape of the data \n",
    "# data = data.sample(frac = 0.1, random_state = 48) \n",
    "print(data.shape) \n",
    "print(data.describe())"
   ],
   "metadata": {
    "collapsed": false
   },
   "id": "4c5e2ab158464fab"
  },
  {
   "cell_type": "markdown",
   "source": [
    "Imbalance in the data"
   ],
   "metadata": {
    "collapsed": false
   },
   "id": "7b5cd0b06c3806df"
  },
  {
   "cell_type": "code",
   "execution_count": null,
   "outputs": [],
   "source": [
    "# Determine number of fraud cases in dataset \n",
    "fraud = data[data['Class'] == 1] \n",
    "valid = data[data['Class'] == 0] \n",
    "outlierFraction = len(fraud)/float(len(valid)) \n",
    "print(outlierFraction) \n",
    "print('Fraud Cases: {}'.format(len(data[data['Class'] == 1]))) \n",
    "print('Valid Transactions: {}'.format(len(data[data['Class'] == 0]))) "
   ],
   "metadata": {
    "collapsed": false
   },
   "id": "e13083fb1ba48f41"
  },
  {
   "cell_type": "code",
   "execution_count": null,
   "outputs": [],
   "source": [
    "print(\"Amount details of the fraudulent transaction\") \n",
    "fraud.Amount.describe() "
   ],
   "metadata": {
    "collapsed": false
   },
   "id": "827ad6805f960ce0"
  },
  {
   "cell_type": "code",
   "execution_count": null,
   "outputs": [],
   "source": [
    "print(\"details of valid transaction\") \n",
    "valid.Amount.describe()"
   ],
   "metadata": {
    "collapsed": false
   },
   "id": "f57f02330120cc47"
  },
  {
   "cell_type": "markdown",
   "source": [
    "Plotting the Correlation Matrix"
   ],
   "metadata": {
    "collapsed": false
   },
   "id": "7793fde355ff90a7"
  },
  {
   "cell_type": "code",
   "execution_count": null,
   "outputs": [],
   "source": [
    "# Correlation matrix \n",
    "corrmat = data.corr() \n",
    "fig = plt.figure(figsize = (12, 9)) \n",
    "sns.heatmap(corrmat, vmax = .8, square = True) \n",
    "plt.show() "
   ],
   "metadata": {
    "collapsed": false
   },
   "id": "f9f635e95816fd75"
  },
  {
   "cell_type": "markdown",
   "source": [
    "Separating the X and the Y values"
   ],
   "metadata": {
    "collapsed": false
   },
   "id": "34ea95002eb34070"
  },
  {
   "cell_type": "code",
   "execution_count": null,
   "outputs": [],
   "source": [
    "# dividing the X and the Y from the dataset \n",
    "X = data.drop(['Class'], axis = 1) \n",
    "Y = data[\"Class\"] \n",
    "print(X.shape) \n",
    "print(Y.shape) \n",
    "# getting just the values for the sake of processing \n",
    "# (its a numpy array with no columns) \n",
    "xData = X.values \n",
    "yData = Y.values "
   ],
   "metadata": {
    "collapsed": false
   },
   "id": "65336d855acfbc38"
  },
  {
   "cell_type": "markdown",
   "source": [
    "Training and Testing Data Bifurcation"
   ],
   "metadata": {
    "collapsed": false
   },
   "id": "62ddbfba926570ce"
  },
  {
   "cell_type": "code",
   "execution_count": null,
   "outputs": [],
   "source": [
    "# Using Scikit-learn to split data into training and testing sets \n",
    "from sklearn.model_selection import train_test_split \n",
    "# Split the data into training and testing sets \n",
    "xTrain, xTest, yTrain, yTest = train_test_split( \n",
    "\t\txData, yData, test_size = 0.2, random_state = 42) "
   ],
   "metadata": {
    "collapsed": false
   },
   "id": "1c67f340b37516db"
  },
  {
   "cell_type": "markdown",
   "source": [
    "Building a Random Forest Model using scikit learn"
   ],
   "metadata": {
    "collapsed": false
   },
   "id": "a5675947e94e8070"
  },
  {
   "cell_type": "code",
   "execution_count": null,
   "outputs": [],
   "source": [
    "# Building the Random Forest Classifier (RANDOM FOREST) \n",
    "from sklearn.ensemble import RandomForestClassifier \n",
    "# random forest model creation \n",
    "rfc = RandomForestClassifier() \n",
    "rfc.fit(xTrain, yTrain) \n",
    "# predictions \n",
    "yPred = rfc.predict(xTest) "
   ],
   "metadata": {
    "collapsed": false
   },
   "id": "a90bb0a525997ad5"
  },
  {
   "cell_type": "markdown",
   "source": [
    "Building all kinds of evaluating parameters"
   ],
   "metadata": {
    "collapsed": false
   },
   "id": "b4567595d81504c7"
  },
  {
   "cell_type": "code",
   "execution_count": null,
   "outputs": [],
   "source": [
    "# Evaluating the classifier \n",
    "# printing every score of the classifier \n",
    "# scoring in anything \n",
    "from sklearn.metrics import classification_report, accuracy_score \n",
    "from sklearn.metrics import precision_score, recall_score \n",
    "from sklearn.metrics import f1_score, matthews_corrcoef \n",
    "from sklearn.metrics import confusion_matrix \n",
    "\n",
    "n_outliers = len(fraud) \n",
    "n_errors = (yPred != yTest).sum() \n",
    "print(\"The model used is Random Forest classifier\") \n",
    "\n",
    "acc = accuracy_score(yTest, yPred) \n",
    "print(\"The accuracy is {}\".format(acc)) \n",
    "\n",
    "prec = precision_score(yTest, yPred) \n",
    "print(\"The precision is {}\".format(prec)) \n",
    "\n",
    "rec = recall_score(yTest, yPred) \n",
    "print(\"The recall is {}\".format(rec)) \n",
    "\n",
    "f1 = f1_score(yTest, yPred) \n",
    "print(\"The F1-Score is {}\".format(f1)) \n",
    "\n",
    "MCC = matthews_corrcoef(yTest, yPred) \n",
    "print(\"The Matthews correlation coefficient is{}\".format(MCC)) "
   ],
   "metadata": {
    "collapsed": false
   },
   "id": "a49d9d06aa13bff7"
  },
  {
   "cell_type": "markdown",
   "source": [
    "Visualizing the Confusion Matrix"
   ],
   "metadata": {
    "collapsed": false
   },
   "id": "eef2d6ca9d99cce2"
  },
  {
   "cell_type": "code",
   "execution_count": null,
   "outputs": [],
   "source": [
    "# printing the confusion matrix \n",
    "LABELS = ['Normal', 'Fraud'] \n",
    "conf_matrix = confusion_matrix(yTest, yPred) \n",
    "plt.figure(figsize =(12, 12)) \n",
    "sns.heatmap(conf_matrix, xticklabels = LABELS,  \n",
    "            yticklabels = LABELS, annot = True, fmt =\"d\"); \n",
    "plt.title(\"Confusion matrix\") \n",
    "plt.ylabel('True class') \n",
    "plt.xlabel('Predicted class') \n",
    "plt.show()"
   ],
   "metadata": {
    "collapsed": false
   },
   "id": "aac2cb77a9399d57"
  }
 ],
 "metadata": {
  "kernelspec": {
   "display_name": "Python 3",
   "language": "python",
   "name": "python3"
  },
  "language_info": {
   "codemirror_mode": {
    "name": "ipython",
    "version": 2
   },
   "file_extension": ".py",
   "mimetype": "text/x-python",
   "name": "python",
   "nbconvert_exporter": "python",
   "pygments_lexer": "ipython2",
   "version": "2.7.6"
  }
 },
 "nbformat": 4,
 "nbformat_minor": 5
}
